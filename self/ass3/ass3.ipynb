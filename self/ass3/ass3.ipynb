{
 "cells": [
  {
   "cell_type": "code",
   "execution_count": 1,
   "id": "17e7ad1c-f134-4fb4-93d0-ecb1629c30fa",
   "metadata": {},
   "outputs": [],
   "source": [
    "import numpy as np\n",
    "import pandas as pd\n",
    "import seaborn as sns"
   ]
  },
  {
   "cell_type": "code",
   "execution_count": 2,
   "id": "02d79d29-513e-43fd-9a1b-d784b14850fd",
   "metadata": {},
   "outputs": [],
   "source": [
    "data = pd.read_csv('iris.csv')"
   ]
  },
  {
   "cell_type": "code",
   "execution_count": 3,
   "id": "c100f692-e412-477e-ad1f-a56f4abd5a64",
   "metadata": {},
   "outputs": [
    {
     "data": {
      "text/html": [
       "<div>\n",
       "<style scoped>\n",
       "    .dataframe tbody tr th:only-of-type {\n",
       "        vertical-align: middle;\n",
       "    }\n",
       "\n",
       "    .dataframe tbody tr th {\n",
       "        vertical-align: top;\n",
       "    }\n",
       "\n",
       "    .dataframe thead th {\n",
       "        text-align: right;\n",
       "    }\n",
       "</style>\n",
       "<table border=\"1\" class=\"dataframe\">\n",
       "  <thead>\n",
       "    <tr style=\"text-align: right;\">\n",
       "      <th></th>\n",
       "      <th>Id</th>\n",
       "      <th>SepalLengthCm</th>\n",
       "      <th>SepalWidthCm</th>\n",
       "      <th>PetalLengthCm</th>\n",
       "      <th>PetalWidthCm</th>\n",
       "      <th>Species</th>\n",
       "    </tr>\n",
       "  </thead>\n",
       "  <tbody>\n",
       "    <tr>\n",
       "      <th>129</th>\n",
       "      <td>130</td>\n",
       "      <td>7.2</td>\n",
       "      <td>3.0</td>\n",
       "      <td>5.8</td>\n",
       "      <td>1.6</td>\n",
       "      <td>Iris-virginica</td>\n",
       "    </tr>\n",
       "    <tr>\n",
       "      <th>124</th>\n",
       "      <td>125</td>\n",
       "      <td>6.7</td>\n",
       "      <td>3.3</td>\n",
       "      <td>5.7</td>\n",
       "      <td>2.1</td>\n",
       "      <td>Iris-virginica</td>\n",
       "    </tr>\n",
       "    <tr>\n",
       "      <th>95</th>\n",
       "      <td>96</td>\n",
       "      <td>5.7</td>\n",
       "      <td>3.0</td>\n",
       "      <td>4.2</td>\n",
       "      <td>1.2</td>\n",
       "      <td>Iris-versicolor</td>\n",
       "    </tr>\n",
       "    <tr>\n",
       "      <th>141</th>\n",
       "      <td>142</td>\n",
       "      <td>6.9</td>\n",
       "      <td>3.1</td>\n",
       "      <td>5.1</td>\n",
       "      <td>2.3</td>\n",
       "      <td>Iris-virginica</td>\n",
       "    </tr>\n",
       "    <tr>\n",
       "      <th>108</th>\n",
       "      <td>109</td>\n",
       "      <td>6.7</td>\n",
       "      <td>2.5</td>\n",
       "      <td>5.8</td>\n",
       "      <td>1.8</td>\n",
       "      <td>Iris-virginica</td>\n",
       "    </tr>\n",
       "    <tr>\n",
       "      <th>135</th>\n",
       "      <td>136</td>\n",
       "      <td>7.7</td>\n",
       "      <td>3.0</td>\n",
       "      <td>6.1</td>\n",
       "      <td>2.3</td>\n",
       "      <td>Iris-virginica</td>\n",
       "    </tr>\n",
       "    <tr>\n",
       "      <th>134</th>\n",
       "      <td>135</td>\n",
       "      <td>6.1</td>\n",
       "      <td>2.6</td>\n",
       "      <td>5.6</td>\n",
       "      <td>1.4</td>\n",
       "      <td>Iris-virginica</td>\n",
       "    </tr>\n",
       "    <tr>\n",
       "      <th>147</th>\n",
       "      <td>148</td>\n",
       "      <td>6.5</td>\n",
       "      <td>3.0</td>\n",
       "      <td>5.2</td>\n",
       "      <td>2.0</td>\n",
       "      <td>Iris-virginica</td>\n",
       "    </tr>\n",
       "    <tr>\n",
       "      <th>29</th>\n",
       "      <td>30</td>\n",
       "      <td>4.7</td>\n",
       "      <td>3.2</td>\n",
       "      <td>1.6</td>\n",
       "      <td>0.2</td>\n",
       "      <td>Iris-setosa</td>\n",
       "    </tr>\n",
       "    <tr>\n",
       "      <th>35</th>\n",
       "      <td>36</td>\n",
       "      <td>5.0</td>\n",
       "      <td>3.2</td>\n",
       "      <td>1.2</td>\n",
       "      <td>0.2</td>\n",
       "      <td>Iris-setosa</td>\n",
       "    </tr>\n",
       "  </tbody>\n",
       "</table>\n",
       "</div>"
      ],
      "text/plain": [
       "      Id  SepalLengthCm  SepalWidthCm  PetalLengthCm  PetalWidthCm  \\\n",
       "129  130            7.2           3.0            5.8           1.6   \n",
       "124  125            6.7           3.3            5.7           2.1   \n",
       "95    96            5.7           3.0            4.2           1.2   \n",
       "141  142            6.9           3.1            5.1           2.3   \n",
       "108  109            6.7           2.5            5.8           1.8   \n",
       "135  136            7.7           3.0            6.1           2.3   \n",
       "134  135            6.1           2.6            5.6           1.4   \n",
       "147  148            6.5           3.0            5.2           2.0   \n",
       "29    30            4.7           3.2            1.6           0.2   \n",
       "35    36            5.0           3.2            1.2           0.2   \n",
       "\n",
       "             Species  \n",
       "129   Iris-virginica  \n",
       "124   Iris-virginica  \n",
       "95   Iris-versicolor  \n",
       "141   Iris-virginica  \n",
       "108   Iris-virginica  \n",
       "135   Iris-virginica  \n",
       "134   Iris-virginica  \n",
       "147   Iris-virginica  \n",
       "29       Iris-setosa  \n",
       "35       Iris-setosa  "
      ]
     },
     "execution_count": 3,
     "metadata": {},
     "output_type": "execute_result"
    }
   ],
   "source": [
    "data.sample(10)"
   ]
  },
  {
   "cell_type": "code",
   "execution_count": 4,
   "id": "7dd0ed4c-b943-4637-8599-0184a2ab0d44",
   "metadata": {},
   "outputs": [
    {
     "name": "stdout",
     "output_type": "stream",
     "text": [
      "<class 'pandas.core.frame.DataFrame'>\n",
      "RangeIndex: 150 entries, 0 to 149\n",
      "Data columns (total 6 columns):\n",
      " #   Column         Non-Null Count  Dtype  \n",
      "---  ------         --------------  -----  \n",
      " 0   Id             150 non-null    int64  \n",
      " 1   SepalLengthCm  150 non-null    float64\n",
      " 2   SepalWidthCm   150 non-null    float64\n",
      " 3   PetalLengthCm  150 non-null    float64\n",
      " 4   PetalWidthCm   150 non-null    float64\n",
      " 5   Species        150 non-null    object \n",
      "dtypes: float64(4), int64(1), object(1)\n",
      "memory usage: 7.2+ KB\n"
     ]
    }
   ],
   "source": [
    "data.info()"
   ]
  },
  {
   "cell_type": "code",
   "execution_count": 5,
   "id": "d8e7cdbc-71c3-49d0-a6c6-d8ea2c2448c5",
   "metadata": {},
   "outputs": [
    {
     "data": {
      "text/html": [
       "<div>\n",
       "<style scoped>\n",
       "    .dataframe tbody tr th:only-of-type {\n",
       "        vertical-align: middle;\n",
       "    }\n",
       "\n",
       "    .dataframe tbody tr th {\n",
       "        vertical-align: top;\n",
       "    }\n",
       "\n",
       "    .dataframe thead th {\n",
       "        text-align: right;\n",
       "    }\n",
       "</style>\n",
       "<table border=\"1\" class=\"dataframe\">\n",
       "  <thead>\n",
       "    <tr style=\"text-align: right;\">\n",
       "      <th></th>\n",
       "      <th>Id</th>\n",
       "      <th>SepalLengthCm</th>\n",
       "      <th>SepalWidthCm</th>\n",
       "      <th>PetalLengthCm</th>\n",
       "      <th>PetalWidthCm</th>\n",
       "    </tr>\n",
       "  </thead>\n",
       "  <tbody>\n",
       "    <tr>\n",
       "      <th>count</th>\n",
       "      <td>150.000000</td>\n",
       "      <td>150.000000</td>\n",
       "      <td>150.000000</td>\n",
       "      <td>150.000000</td>\n",
       "      <td>150.000000</td>\n",
       "    </tr>\n",
       "    <tr>\n",
       "      <th>mean</th>\n",
       "      <td>75.500000</td>\n",
       "      <td>5.843333</td>\n",
       "      <td>3.054000</td>\n",
       "      <td>3.758667</td>\n",
       "      <td>1.198667</td>\n",
       "    </tr>\n",
       "    <tr>\n",
       "      <th>std</th>\n",
       "      <td>43.445368</td>\n",
       "      <td>0.828066</td>\n",
       "      <td>0.433594</td>\n",
       "      <td>1.764420</td>\n",
       "      <td>0.763161</td>\n",
       "    </tr>\n",
       "    <tr>\n",
       "      <th>min</th>\n",
       "      <td>1.000000</td>\n",
       "      <td>4.300000</td>\n",
       "      <td>2.000000</td>\n",
       "      <td>1.000000</td>\n",
       "      <td>0.100000</td>\n",
       "    </tr>\n",
       "    <tr>\n",
       "      <th>25%</th>\n",
       "      <td>38.250000</td>\n",
       "      <td>5.100000</td>\n",
       "      <td>2.800000</td>\n",
       "      <td>1.600000</td>\n",
       "      <td>0.300000</td>\n",
       "    </tr>\n",
       "    <tr>\n",
       "      <th>50%</th>\n",
       "      <td>75.500000</td>\n",
       "      <td>5.800000</td>\n",
       "      <td>3.000000</td>\n",
       "      <td>4.350000</td>\n",
       "      <td>1.300000</td>\n",
       "    </tr>\n",
       "    <tr>\n",
       "      <th>75%</th>\n",
       "      <td>112.750000</td>\n",
       "      <td>6.400000</td>\n",
       "      <td>3.300000</td>\n",
       "      <td>5.100000</td>\n",
       "      <td>1.800000</td>\n",
       "    </tr>\n",
       "    <tr>\n",
       "      <th>max</th>\n",
       "      <td>150.000000</td>\n",
       "      <td>7.900000</td>\n",
       "      <td>4.400000</td>\n",
       "      <td>6.900000</td>\n",
       "      <td>2.500000</td>\n",
       "    </tr>\n",
       "  </tbody>\n",
       "</table>\n",
       "</div>"
      ],
      "text/plain": [
       "               Id  SepalLengthCm  SepalWidthCm  PetalLengthCm  PetalWidthCm\n",
       "count  150.000000     150.000000    150.000000     150.000000    150.000000\n",
       "mean    75.500000       5.843333      3.054000       3.758667      1.198667\n",
       "std     43.445368       0.828066      0.433594       1.764420      0.763161\n",
       "min      1.000000       4.300000      2.000000       1.000000      0.100000\n",
       "25%     38.250000       5.100000      2.800000       1.600000      0.300000\n",
       "50%     75.500000       5.800000      3.000000       4.350000      1.300000\n",
       "75%    112.750000       6.400000      3.300000       5.100000      1.800000\n",
       "max    150.000000       7.900000      4.400000       6.900000      2.500000"
      ]
     },
     "execution_count": 5,
     "metadata": {},
     "output_type": "execute_result"
    }
   ],
   "source": [
    "data.describe()"
   ]
  },
  {
   "cell_type": "code",
   "execution_count": 6,
   "id": "f196176c-1798-47da-8239-7783038af804",
   "metadata": {},
   "outputs": [
    {
     "name": "stdout",
     "output_type": "stream",
     "text": [
      "<class 'pandas.core.series.Series'>\n",
      "RangeIndex: 150 entries, 0 to 149\n",
      "Series name: Id\n",
      "Non-Null Count  Dtype\n",
      "--------------  -----\n",
      "150 non-null    int64\n",
      "dtypes: int64(1)\n",
      "memory usage: 1.3 KB\n"
     ]
    }
   ],
   "source": [
    "data['Id'].info()"
   ]
  },
  {
   "cell_type": "code",
   "execution_count": 7,
   "id": "ba291985-94b5-4388-bd0b-2445f7cf17dd",
   "metadata": {},
   "outputs": [],
   "source": [
    "### part 2"
   ]
  },
  {
   "cell_type": "code",
   "execution_count": 12,
   "id": "67a03a97-e899-4c3e-971c-5a145819418f",
   "metadata": {},
   "outputs": [],
   "source": [
    "setosa_df = data[data['Species']=='Iris-setosa'].drop('Species', axis = 1)"
   ]
  },
  {
   "cell_type": "code",
   "execution_count": 13,
   "id": "a988d6ad-9cf7-438c-a373-8fed012ab722",
   "metadata": {},
   "outputs": [
    {
     "data": {
      "text/html": [
       "<div>\n",
       "<style scoped>\n",
       "    .dataframe tbody tr th:only-of-type {\n",
       "        vertical-align: middle;\n",
       "    }\n",
       "\n",
       "    .dataframe tbody tr th {\n",
       "        vertical-align: top;\n",
       "    }\n",
       "\n",
       "    .dataframe thead th {\n",
       "        text-align: right;\n",
       "    }\n",
       "</style>\n",
       "<table border=\"1\" class=\"dataframe\">\n",
       "  <thead>\n",
       "    <tr style=\"text-align: right;\">\n",
       "      <th></th>\n",
       "      <th>Id</th>\n",
       "      <th>SepalLengthCm</th>\n",
       "      <th>SepalWidthCm</th>\n",
       "      <th>PetalLengthCm</th>\n",
       "      <th>PetalWidthCm</th>\n",
       "    </tr>\n",
       "  </thead>\n",
       "  <tbody>\n",
       "    <tr>\n",
       "      <th>35</th>\n",
       "      <td>36</td>\n",
       "      <td>5.0</td>\n",
       "      <td>3.2</td>\n",
       "      <td>1.2</td>\n",
       "      <td>0.2</td>\n",
       "    </tr>\n",
       "    <tr>\n",
       "      <th>24</th>\n",
       "      <td>25</td>\n",
       "      <td>4.8</td>\n",
       "      <td>3.4</td>\n",
       "      <td>1.9</td>\n",
       "      <td>0.2</td>\n",
       "    </tr>\n",
       "    <tr>\n",
       "      <th>46</th>\n",
       "      <td>47</td>\n",
       "      <td>5.1</td>\n",
       "      <td>3.8</td>\n",
       "      <td>1.6</td>\n",
       "      <td>0.2</td>\n",
       "    </tr>\n",
       "    <tr>\n",
       "      <th>12</th>\n",
       "      <td>13</td>\n",
       "      <td>4.8</td>\n",
       "      <td>3.0</td>\n",
       "      <td>1.4</td>\n",
       "      <td>0.1</td>\n",
       "    </tr>\n",
       "    <tr>\n",
       "      <th>5</th>\n",
       "      <td>6</td>\n",
       "      <td>5.4</td>\n",
       "      <td>3.9</td>\n",
       "      <td>1.7</td>\n",
       "      <td>0.4</td>\n",
       "    </tr>\n",
       "  </tbody>\n",
       "</table>\n",
       "</div>"
      ],
      "text/plain": [
       "    Id  SepalLengthCm  SepalWidthCm  PetalLengthCm  PetalWidthCm\n",
       "35  36            5.0           3.2            1.2           0.2\n",
       "24  25            4.8           3.4            1.9           0.2\n",
       "46  47            5.1           3.8            1.6           0.2\n",
       "12  13            4.8           3.0            1.4           0.1\n",
       "5    6            5.4           3.9            1.7           0.4"
      ]
     },
     "execution_count": 13,
     "metadata": {},
     "output_type": "execute_result"
    }
   ],
   "source": [
    "setosa_df.sample(5)\n"
   ]
  },
  {
   "cell_type": "code",
   "execution_count": 14,
   "id": "375fed3b-91d5-41b6-b305-50db376773cc",
   "metadata": {},
   "outputs": [
    {
     "data": {
      "text/plain": [
       "Id               25.500\n",
       "SepalLengthCm     5.006\n",
       "SepalWidthCm      3.418\n",
       "PetalLengthCm     1.464\n",
       "PetalWidthCm      0.244\n",
       "dtype: float64"
      ]
     },
     "execution_count": 14,
     "metadata": {},
     "output_type": "execute_result"
    }
   ],
   "source": [
    "setosa_df.mean()"
   ]
  },
  {
   "cell_type": "code",
   "execution_count": null,
   "id": "93d9dde5-d6da-4308-8e6d-dcd3aa26049a",
   "metadata": {},
   "outputs": [],
   "source": [
    "setosa_df.median()"
   ]
  },
  {
   "cell_type": "code",
   "execution_count": null,
   "id": "2d199cae-b2f0-4910-864a-52b03cf294fd",
   "metadata": {},
   "outputs": [],
   "source": [
    "setosa_df.std()"
   ]
  },
  {
   "cell_type": "code",
   "execution_count": null,
   "id": "70daba6f-6ed4-4c9d-9bca-1fb10587e119",
   "metadata": {},
   "outputs": [],
   "source": [
    "\n",
    "percentiles = setosa_df.quantile([0.25, 0.5, 0.75])\n",
    "percentiles"
   ]
  },
  {
   "cell_type": "code",
   "execution_count": null,
   "id": "d974671c-8da0-41d9-8045-e67157a90883",
   "metadata": {},
   "outputs": [],
   "source": [
    "\n",
    "versicolor_df = data[data['Species']=='Iris-versicolor'].drop('Species', axis = True)"
   ]
  },
  {
   "cell_type": "code",
   "execution_count": null,
   "id": "c0bd4330-b669-47a2-a003-c3db3a84cf22",
   "metadata": {},
   "outputs": [],
   "source": [
    "versicolor_df.sample(5)"
   ]
  },
  {
   "cell_type": "code",
   "execution_count": null,
   "id": "11687fa9-f72b-49b2-94bc-6da242e1e430",
   "metadata": {},
   "outputs": [],
   "source": [
    "versicolor_df.mean()"
   ]
  },
  {
   "cell_type": "code",
   "execution_count": null,
   "id": "b6a429ad-689d-45d6-ada8-aa9d90df6ab5",
   "metadata": {},
   "outputs": [],
   "source": [
    "versicolor_df.median()"
   ]
  },
  {
   "cell_type": "code",
   "execution_count": null,
   "id": "6d902acb-2fd1-4cf4-b799-e4333c0cd502",
   "metadata": {},
   "outputs": [],
   "source": [
    "versicolor_df.std()"
   ]
  },
  {
   "cell_type": "code",
   "execution_count": null,
   "id": "c2f360b2-923f-46bb-a5e2-2bf61a864d3a",
   "metadata": {},
   "outputs": [],
   "source": [
    "percentilev = versicolor_df.quantile([0.25,0.5,0.75])\n",
    "percentilev"
   ]
  },
  {
   "cell_type": "code",
   "execution_count": null,
   "id": "3ccabaa3-067c-4b39-aefc-08ccda6ed183",
   "metadata": {},
   "outputs": [],
   "source": [
    "virginica_df = data[data['Species']=='Iris-virginica'].drop('Species', axis = 1)"
   ]
  },
  {
   "cell_type": "code",
   "execution_count": null,
   "id": "d86cce7a-3e92-4d67-88ae-2e2c68f2f036",
   "metadata": {},
   "outputs": [],
   "source": [
    "virginica_df.mean()"
   ]
  },
  {
   "cell_type": "code",
   "execution_count": null,
   "id": "28dfa218-6ebd-493f-a24f-8c52c38f9333",
   "metadata": {},
   "outputs": [],
   "source": [
    "virginica_df.median()\n"
   ]
  },
  {
   "cell_type": "code",
   "execution_count": null,
   "id": "01bd90e5-9340-4748-8bd5-f74d89d0ddb0",
   "metadata": {},
   "outputs": [],
   "source": [
    "virginica_df.std()"
   ]
  },
  {
   "cell_type": "code",
   "execution_count": null,
   "id": "faeb8f48-6fbb-4f30-bc06-2fe0842035a2",
   "metadata": {},
   "outputs": [],
   "source": [
    "percentilevv = virginica_df.quantile([0.25,0.5,0.75])"
   ]
  },
  {
   "cell_type": "code",
   "execution_count": null,
   "id": "4a205c72-3b5b-4019-8db0-be20d6a82cea",
   "metadata": {},
   "outputs": [],
   "source": [
    "percentilevv"
   ]
  },
  {
   "cell_type": "code",
   "execution_count": null,
   "id": "b1fe501b-7731-45cf-91ab-eaa31d4c3f42",
   "metadata": {},
   "outputs": [],
   "source": [
    "#part 1"
   ]
  },
  {
   "cell_type": "code",
   "execution_count": null,
   "id": "af399faf-2b41-4bff-867b-0c8bb27136b6",
   "metadata": {},
   "outputs": [],
   "source": [
    "newdata = data.groupby('Species')"
   ]
  },
  {
   "cell_type": "code",
   "execution_count": null,
   "id": "303a5766-2791-401e-99e8-ac3b434207b0",
   "metadata": {},
   "outputs": [],
   "source": [
    "newdata.sample(7)"
   ]
  },
  {
   "cell_type": "code",
   "execution_count": null,
   "id": "8b236d4b-1dc3-464c-869e-cafed5bdf803",
   "metadata": {},
   "outputs": [],
   "source": [
    "newdata.mean()"
   ]
  },
  {
   "cell_type": "code",
   "execution_count": null,
   "id": "bc4d7f4b-6da6-4d0d-9301-41baadc6cb69",
   "metadata": {},
   "outputs": [],
   "source": [
    "newdata.median()"
   ]
  },
  {
   "cell_type": "code",
   "execution_count": null,
   "id": "63bce133-48d6-430a-aee1-043ca569ec80",
   "metadata": {},
   "outputs": [],
   "source": [
    "percentile = newdata.quantile([0.25,0.5,0.75])"
   ]
  },
  {
   "cell_type": "code",
   "execution_count": null,
   "id": "1b1cdbef-ae04-429d-85c3-30281ee93991",
   "metadata": {},
   "outputs": [],
   "source": [
    "percentile"
   ]
  },
  {
   "cell_type": "code",
   "execution_count": null,
   "id": "42a3b517-8425-4071-ba75-1bf2cb4c567b",
   "metadata": {},
   "outputs": [],
   "source": []
  }
 ],
 "metadata": {
  "kernelspec": {
   "display_name": "Python 3 (ipykernel)",
   "language": "python",
   "name": "python3"
  },
  "language_info": {
   "codemirror_mode": {
    "name": "ipython",
    "version": 3
   },
   "file_extension": ".py",
   "mimetype": "text/x-python",
   "name": "python",
   "nbconvert_exporter": "python",
   "pygments_lexer": "ipython3",
   "version": "3.11.7"
  }
 },
 "nbformat": 4,
 "nbformat_minor": 5
}
