{
 "cells": [
  {
   "cell_type": "code",
   "execution_count": 1,
   "id": "ec61eb04-7bdb-4543-b030-810f70f95d0c",
   "metadata": {},
   "outputs": [],
   "source": [
    "import nltk\n",
    "from nltk import word_tokenize, sent_tokenize\n",
    "from nltk import pos_tag\n",
    "from nltk.corpus import stopwords\n",
    "from nltk.stem import PorterStemmer\n",
    "from nltk.stem import WordNetLemmatizer"
   ]
  },
  {
   "cell_type": "code",
   "execution_count": 2,
   "id": "389e638a-6fb3-4d58-9287-573be024102b",
   "metadata": {},
   "outputs": [
    {
     "name": "stderr",
     "output_type": "stream",
     "text": [
      "[nltk_data] Downloading package stopwords to\n",
      "[nltk_data]     C:\\Users\\heman\\AppData\\Roaming\\nltk_data...\n",
      "[nltk_data]   Package stopwords is already up-to-date!\n",
      "[nltk_data] Error loading WordNet: Package 'WordNet' not found in\n",
      "[nltk_data]     index\n",
      "[nltk_data] Downloading package punkt to\n",
      "[nltk_data]     C:\\Users\\heman\\AppData\\Roaming\\nltk_data...\n",
      "[nltk_data]   Package punkt is already up-to-date!\n"
     ]
    },
    {
     "data": {
      "text/plain": [
       "True"
      ]
     },
     "execution_count": 2,
     "metadata": {},
     "output_type": "execute_result"
    }
   ],
   "source": [
    "nltk.download('stopwords')\n",
    "nltk.download('WordNet')\n",
    "nltk.download('punkt')"
   ]
  },
  {
   "cell_type": "code",
   "execution_count": 3,
   "id": "be349dc1-91cf-418d-99cb-50e1fde687b7",
   "metadata": {},
   "outputs": [],
   "source": [
    "text = \"Lorem ipsum dolor sit amet, consectetur adipiscing elit. Fusce commodo mauris id justo condimentum dignissim. Nullam placerat semper dapibus. Pellentesque ac risus nulla. Phasellus ut dapibus nunc, id aliquam dolor.\""
   ]
  },
  {
   "cell_type": "code",
   "execution_count": 4,
   "id": "2a4ae985-39f6-4cd8-a634-ab0912da10d5",
   "metadata": {},
   "outputs": [
    {
     "name": "stdout",
     "output_type": "stream",
     "text": [
      "Lorem ipsum dolor sit amet, consectetur adipiscing elit. Fusce commodo mauris id justo condimentum dignissim. Nullam placerat semper dapibus. Pellentesque ac risus nulla. Phasellus ut dapibus nunc, id aliquam dolor.\n"
     ]
    }
   ],
   "source": [
    "print(text)"
   ]
  },
  {
   "cell_type": "code",
   "execution_count": 5,
   "id": "b11e97fa-a1d3-437d-8ce4-7ee7a4fb77e7",
   "metadata": {},
   "outputs": [
    {
     "name": "stdout",
     "output_type": "stream",
     "text": [
      "['Lorem', 'ipsum', 'dolor', 'sit', 'amet', ',', 'consectetur', 'adipiscing', 'elit', '.', 'Fusce', 'commodo', 'mauris', 'id', 'justo', 'condimentum', 'dignissim', '.', 'Nullam', 'placerat', 'semper', 'dapibus', '.', 'Pellentesque', 'ac', 'risus', 'nulla', '.', 'Phasellus', 'ut', 'dapibus', 'nunc', ',', 'id', 'aliquam', 'dolor', '.']\n"
     ]
    }
   ],
   "source": [
    "print(word_tokenize(text))"
   ]
  },
  {
   "cell_type": "code",
   "execution_count": 6,
   "id": "fdce6029-bdf5-489c-9643-afe81bb242a9",
   "metadata": {},
   "outputs": [
    {
     "name": "stdout",
     "output_type": "stream",
     "text": [
      "['Lorem ipsum dolor sit amet, consectetur adipiscing elit.', 'Fusce commodo mauris id justo condimentum dignissim.', 'Nullam placerat semper dapibus.', 'Pellentesque ac risus nulla.', 'Phasellus ut dapibus nunc, id aliquam dolor.']\n"
     ]
    }
   ],
   "source": [
    "print(sent_tokenize(text))"
   ]
  },
  {
   "cell_type": "code",
   "execution_count": 7,
   "id": "d4684201-c68e-4f1b-b090-b59d527b123c",
   "metadata": {},
   "outputs": [],
   "source": [
    "to_pos=word_tokenize(text)"
   ]
  },
  {
   "cell_type": "code",
   "execution_count": 8,
   "id": "3641fb3c-ca55-4c04-9cf2-642d192baba7",
   "metadata": {},
   "outputs": [
    {
     "name": "stdout",
     "output_type": "stream",
     "text": [
      "[('Lorem', 'NNP'), ('ipsum', 'NN'), ('dolor', 'NN'), ('sit', 'NN'), ('amet', 'NN'), (',', ','), ('consectetur', 'NN'), ('adipiscing', 'VBG'), ('elit', 'NN'), ('.', '.'), ('Fusce', 'NNP'), ('commodo', 'JJ'), ('mauris', 'NN'), ('id', 'NN'), ('justo', 'NN'), ('condimentum', 'NN'), ('dignissim', 'NN'), ('.', '.'), ('Nullam', 'NNP'), ('placerat', 'VBZ'), ('semper', 'JJR'), ('dapibus', 'NN'), ('.', '.'), ('Pellentesque', 'NNP'), ('ac', 'JJ'), ('risus', 'NN'), ('nulla', 'NN'), ('.', '.'), ('Phasellus', 'CC'), ('ut', 'JJ'), ('dapibus', 'NN'), ('nunc', 'NN'), (',', ','), ('id', 'JJ'), ('aliquam', 'NN'), ('dolor', 'NN'), ('.', '.')]\n"
     ]
    }
   ],
   "source": [
    "print(pos_tag(to_pos))"
   ]
  },
  {
   "cell_type": "code",
   "execution_count": 9,
   "id": "0f71c892-8ef4-4f84-8a95-254fd22b1589",
   "metadata": {},
   "outputs": [
    {
     "name": "stdout",
     "output_type": "stream",
     "text": [
      "{'his', 'weren', 'most', 'them', 'same', \"didn't\", 'don', 'haven', 'ain', 'hasn', 'am', 'won', 'me', 'him', 'are', 'having', 'a', \"you'd\", 'then', \"you'll\", 'other', \"weren't\", 'those', 'during', 'just', \"hadn't\", 'hers', 'on', 'been', 'has', 'when', \"it's\", 'll', 'why', 'against', \"couldn't\", 'if', 'these', 'more', \"haven't\", 'out', 'o', 'which', 'do', \"don't\", 'doing', 'from', 'couldn', 'isn', 'mustn', 'no', \"she's\", 'needn', 'hadn', 'because', \"won't\", 'while', 'with', \"you're\", 'very', 've', 'i', 'it', 'all', 'further', 'not', 'we', 'that', 'so', 'any', 'at', \"doesn't\", 'some', 'its', 'yours', 'as', 'themselves', 'will', \"shouldn't\", 'aren', 'up', 'is', 'your', 'was', 'under', \"hasn't\", 'should', 'wasn', 'doesn', 'theirs', 'yourselves', \"that'll\", 'didn', 'ourselves', 'before', 're', 'here', 'but', 'or', 'shan', 'only', 'own', \"wouldn't\", 'myself', 'being', 'how', 'be', 'whom', 'nor', 'ours', 'you', 'into', 'y', 'in', 'such', 'few', 'until', \"mightn't\", 'shouldn', 'what', 'through', 'my', \"mustn't\", 'again', 'below', 'himself', 'herself', 'did', 'each', \"aren't\", 'm', 'by', 'both', 'down', \"you've\", 'yourself', 'her', 'over', 'wouldn', 'to', 'were', 'who', 'an', \"needn't\", 'mightn', 'have', 'does', \"should've\", 'can', 's', 'd', 'now', 'itself', \"shan't\", 'the', 'after', 'had', 'of', 'off', 'too', 'between', \"isn't\", \"wasn't\", 'this', 'for', 'than', 'and', 'once', 'our', 'he', 'ma', 'there', 't', 'she', 'about', 'above', 'where', 'their', 'they'}\n"
     ]
    }
   ],
   "source": [
    "stop_words=set(stopwords.words(\"english\"))\n",
    "print(stop_words)"
   ]
  },
  {
   "cell_type": "code",
   "execution_count": 10,
   "id": "fe6f0205-9cf1-4f8d-9884-6960b787d035",
   "metadata": {},
   "outputs": [],
   "source": [
    "to_clean = word_tokenize(text)"
   ]
  },
  {
   "cell_type": "code",
   "execution_count": 11,
   "id": "e63935a8-73ac-4669-be91-3a07a1a451b5",
   "metadata": {},
   "outputs": [
    {
     "name": "stdout",
     "output_type": "stream",
     "text": [
      "['Lorem', 'ipsum', 'dolor', 'sit', 'amet', ',', 'consectetur', 'adipiscing', 'elit', '.', 'Fusce', 'commodo', 'mauris', 'id', 'justo', 'condimentum', 'dignissim', '.', 'Nullam', 'placerat', 'semper', 'dapibus', '.', 'Pellentesque', 'ac', 'risus', 'nulla', '.', 'Phasellus', 'ut', 'dapibus', 'nunc', ',', 'id', 'aliquam', 'dolor', '.']\n"
     ]
    }
   ],
   "source": [
    "no_stopwords = []\n",
    "for token in to_clean:\n",
    "    if token not in stop_words:\n",
    "        no_stopwords.append(token)\n",
    "\n",
    "print(no_stopwords)"
   ]
  },
  {
   "cell_type": "code",
   "execution_count": 12,
   "id": "90285a1c-ba61-410c-b10d-7220ccee5189",
   "metadata": {},
   "outputs": [],
   "source": [
    "stemmer = PorterStemmer()"
   ]
  },
  {
   "cell_type": "code",
   "execution_count": 13,
   "id": "62b47545-805f-479e-a1f4-1d0251cee50d",
   "metadata": {},
   "outputs": [
    {
     "name": "stdout",
     "output_type": "stream",
     "text": [
      "['lorem', 'ipsum', 'dolor', 'sit', 'amet', ',', 'consectetur', 'adipisc', 'elit', '.', 'fusc', 'commodo', 'mauri', 'id', 'justo', 'condimentum', 'dignissim', '.', 'nullam', 'placerat', 'semper', 'dapibu', '.', 'pellentesqu', 'ac', 'risu', 'nulla', '.', 'phasellu', 'ut', 'dapibu', 'nunc', ',', 'id', 'aliquam', 'dolor', '.']\n"
     ]
    }
   ],
   "source": [
    "x= []\n",
    "for token in no_stopwords:\n",
    "    y = stemmer.stem(token)\n",
    "    x.append(y)\n",
    "\n",
    "print(x)"
   ]
  },
  {
   "cell_type": "code",
   "execution_count": 16,
   "id": "d9200457-f62c-41c8-9322-96658194428a",
   "metadata": {},
   "outputs": [],
   "source": [
    "lemmatizer = WordNetLemmatizer()"
   ]
  },
  {
   "cell_type": "code",
   "execution_count": 17,
   "id": "638bc47d-e48b-4ee4-aa7f-7ad6720ea344",
   "metadata": {},
   "outputs": [],
   "source": [
    "a = []\n",
    "for token in no_stopwords:\n",
    "    b = lemmatizer.lemmatize(token)\n",
    "    a.append(b)"
   ]
  },
  {
   "cell_type": "code",
   "execution_count": 18,
   "id": "e6eb9b3d-21df-46c5-ba60-88b86f1c0080",
   "metadata": {},
   "outputs": [
    {
     "name": "stdout",
     "output_type": "stream",
     "text": [
      "['Lorem', 'ipsum', 'dolor', 'sit', 'amet', ',', 'consectetur', 'adipiscing', 'elit', '.', 'Fusce', 'commodo', 'mauris', 'id', 'justo', 'condimentum', 'dignissim', '.', 'Nullam', 'placerat', 'semper', 'dapibus', '.', 'Pellentesque', 'ac', 'risus', 'nulla', '.', 'Phasellus', 'ut', 'dapibus', 'nunc', ',', 'id', 'aliquam', 'dolor', '.']\n"
     ]
    }
   ],
   "source": [
    "print(a)"
   ]
  },
  {
   "cell_type": "code",
   "execution_count": null,
   "id": "57a95fda-793d-4402-abfa-671d76208fc8",
   "metadata": {},
   "outputs": [],
   "source": []
  }
 ],
 "metadata": {
  "kernelspec": {
   "display_name": "Python 3 (ipykernel)",
   "language": "python",
   "name": "python3"
  },
  "language_info": {
   "codemirror_mode": {
    "name": "ipython",
    "version": 3
   },
   "file_extension": ".py",
   "mimetype": "text/x-python",
   "name": "python",
   "nbconvert_exporter": "python",
   "pygments_lexer": "ipython3",
   "version": "3.11.7"
  }
 },
 "nbformat": 4,
 "nbformat_minor": 5
}
